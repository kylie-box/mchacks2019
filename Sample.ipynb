{
 "cells": [
  {
   "cell_type": "code",
   "execution_count": 2,
   "metadata": {},
   "outputs": [],
   "source": [
    "import requests\n",
    "import json\n",
    "import csv"
   ]
  },
  {
   "cell_type": "code",
   "execution_count": 3,
   "metadata": {},
   "outputs": [],
   "source": [
    "class Patients:\n",
    "    def __init__(self, pid, type, value,reference):\n",
    "        self.pid = pid\n",
    "        self.type = type\n",
    "        self.value = value\n",
    "        self.ref = reference\n",
    "\n",
    "    def __str__(self):\n",
    "        return \"pid:{}, type:{},value: {}\".format(self.pid,self.type,self.value)"
   ]
  },
  {
   "cell_type": "code",
   "execution_count": 4,
   "metadata": {},
   "outputs": [],
   "source": [
    "OAuthurl = 'https://sandbox86.tactiorpm7000.com/token.php'\n",
    "APIurl = 'https://sandbox86.tactiorpm7000.com/tactio-clinician-api/1.1.4'\n",
    "\n",
    "# '''Authentication'''\n",
    "body = {\n",
    "\"grant_type\": \"password\",\n",
    "\"client_id\": \"083e9a44a763473fbeb62fbf90b74551\",\n",
    "\"client_secret\": \"ba09798f0921456e8b4e5e4588ea536d\",\n",
    "\"username\": \"tactioClinician\",\n",
    "\"password\": \"tactio\"\n",
    "}\n",
    "\n",
    "response = requests.post(OAuthurl, data=body)\n",
    "auth_code = response.json()[\"access_token\"]"
   ]
  },
  {
   "cell_type": "code",
   "execution_count": 5,
   "metadata": {},
   "outputs": [],
   "source": [
    "# initialize values (patients_list == type.dict)\n",
    "patient_dict = {}"
   ]
  },
  {
   "cell_type": "markdown",
   "metadata": {},
   "source": [
    "### add BMI to patient_dict"
   ]
  },
  {
   "cell_type": "code",
   "execution_count": 6,
   "metadata": {},
   "outputs": [],
   "source": [
    "observation_param = [(\"code\", \"39156-5\"),(\"code\", \"39156-5\")]\n",
    "patient_observation_raw = requests.get(APIurl + '/Observation', headers={\n",
    "    'Authorization': 'Bearer {}'.format(auth_code)}, params=observation_param)\n",
    "patient_obs_json = patient_observation_raw.json()\n",
    "\n",
    "for patient in patient_obs_json['entry']:\n",
    "    # get the patient name id\n",
    "    patient_name_id = patient['resource']['subject']['reference']\n",
    "    # if patient_dict does not have the name, create a empty key\n",
    "    if (patient_name_id not in patient_dict):\n",
    "        # request every patient's info (name, gender...)\n",
    "        patient_info_raw = requests.get(APIurl+\"/{}\".format(patient_name_id), headers={\n",
    "        'Authorization': 'Bearer {}'.format(auth_code)})\n",
    "        \n",
    "        name = str(patient_info_raw.json()['name'][0]['given'][0])+str(patient_info_raw.json()['name'][0]['family'])\n",
    "        patient_dict[patient_name_id] = {}\n",
    "        patient_dict[patient_name_id]['name'] = {name}\n",
    "        \n",
    "    # add bmi to key\n",
    "    patient_dict[patient_name_id]['bmi'] = patient['resource']['valueQuantity']['value']"
   ]
  },
  {
   "cell_type": "raw",
   "metadata": {},
   "source": [
    "### add Fat Ratio to patient_dict"
   ]
  },
  {
   "cell_type": "code",
   "execution_count": 7,
   "metadata": {},
   "outputs": [],
   "source": [
    "observation_param = [(\"code\", \"73708-0\"),(\"code\", \"73708-0\")]\n",
    "patient_observation_raw = requests.get(APIurl + '/Observation', headers={\n",
    "    'Authorization': 'Bearer {}'.format(auth_code)}, params=observation_param)\n",
    "patient_obs_json = patient_observation_raw.json()\n",
    "\n",
    "for patient in patient_obs_json['entry']:\n",
    "    # get the patient name id\n",
    "    patient_name_id = patient['resource']['subject']['reference']\n",
    "    # if patient_dict does not have the name, create a empty key\n",
    "    if (patient_name_id not in patient_dict):\n",
    "        # request every patient's info (name, gender...)\n",
    "        patient_info_raw = requests.get(APIurl+\"/{}\".format(patient_name_id), headers={\n",
    "        'Authorization': 'Bearer {}'.format(auth_code)})\n",
    "        \n",
    "        name = str(patient_info_raw.json()['name'][0]['given'][0])+str(patient_info_raw.json()['name'][0]['family'])\n",
    "        patient_dict[patient_name_id] = {}\n",
    "        patient_dict[patient_name_id]['name'] = {name}\n",
    "        \n",
    "    # add bmi to key\n",
    "    patient_dict[patient_name_id]['fat_ratio'] = patient['resource']['valueQuantity']['value']"
   ]
  },
  {
   "cell_type": "code",
   "execution_count": 16,
   "metadata": {},
   "outputs": [],
   "source": [
    "# Write to csv\n",
    "with open(\"dict.txt\", 'w',  newline='') as outfile:\n",
    "    csv_writer = csv.writer(outfile, delimiter=',', quotechar='|', quoting=csv.QUOTE_MINIMAL)\n",
    "    for k,v in patient_dict.items():\n",
    "        \n",
    "        # attributes\n",
    "        name = ' '\n",
    "        bmi = ' '\n",
    "        fat_ratio = ' '\n",
    "        \n",
    "        if ('name' in v):\n",
    "            name = v['name']\n",
    "        if ('bmi' in v):\n",
    "            bmi = v['bmi']\n",
    "        if ('fat_ratio' in v):\n",
    "            fat_ratio = v['fat_ratio']\n",
    "        \n",
    "        #csv_writer.writerow([k] + [name]  + [bmi] + [fat_ratio])\n",
    "        csv_writer.writerow([k] + [bmi] + [fat_ratio])"
   ]
  },
  {
   "cell_type": "code",
   "execution_count": null,
   "metadata": {},
   "outputs": [],
   "source": [
    "patient_dict"
   ]
  },
  {
   "cell_type": "code",
   "execution_count": null,
   "metadata": {},
   "outputs": [],
   "source": []
  }
 ],
 "metadata": {
  "kernelspec": {
   "display_name": "Python 3",
   "language": "python",
   "name": "python3"
  },
  "language_info": {
   "codemirror_mode": {
    "name": "ipython",
    "version": 3
   },
   "file_extension": ".py",
   "mimetype": "text/x-python",
   "name": "python",
   "nbconvert_exporter": "python",
   "pygments_lexer": "ipython3",
   "version": "3.7.1"
  }
 },
 "nbformat": 4,
 "nbformat_minor": 2
}
